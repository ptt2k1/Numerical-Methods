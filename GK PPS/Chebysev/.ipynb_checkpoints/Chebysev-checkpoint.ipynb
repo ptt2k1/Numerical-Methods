{
 "cells": [
  {
   "cell_type": "code",
   "execution_count": 1,
   "metadata": {},
   "outputs": [],
   "source": [
    "import numpy as np"
   ]
  },
  {
   "cell_type": "code",
   "execution_count": 2,
   "metadata": {},
   "outputs": [],
   "source": [
    "def hamSo(x):\n",
    "    return x**2*np.exp(-2*x**2) + 3 * np.cos(x)**2 - 5*np.exp(x)\n",
    "\n",
    "# n bậc của đa thức => có n + 1 mốc\n",
    "def cacMocToiUu(n, a, b):\n",
    "    x = []\n",
    "    for i in range(n + 1):\n",
    "        x.append(1/2 *((b - a) * np.cos((2*i + 1)*np.pi/(2 * n)) + a + b))\n",
    "    return [np.array(x), hamSo(np.array(x))]"
   ]
  },
  {
   "cell_type": "markdown",
   "metadata": {},
   "source": [
    "n là bậc của đa thức => có n + 1 mốc"
   ]
  },
  {
   "cell_type": "code",
   "execution_count": 3,
   "metadata": {},
   "outputs": [
    {
     "name": "stdout",
     "output_type": "stream",
     "text": [
      "x: [4.96157056 4.66293922 4.11114047 3.39018064 2.60981936 1.88885953\n",
      " 1.33706078 1.03842944 1.03842944]\n",
      "y: [-713.9071696  -529.72780551 -304.12136836 -145.53815921  -65.75430149\n",
      "  -32.76288273  -18.82818003  -13.22621702  -13.22621702]\n"
     ]
    }
   ],
   "source": [
    "a = 1\n",
    "b = 5\n",
    "n = 8\n",
    "\n",
    "listMoc = cacMocToiUu(n, a, b)\n",
    "print(\"x: {0}\\ny: {1}\".format(listMoc[0], listMoc[1]))"
   ]
  },
  {
   "cell_type": "code",
   "execution_count": null,
   "metadata": {},
   "outputs": [],
   "source": []
  }
 ],
 "metadata": {
  "kernelspec": {
   "display_name": "Python 3 (ipykernel)",
   "language": "python",
   "name": "python3"
  },
  "language_info": {
   "codemirror_mode": {
    "name": "ipython",
    "version": 3
   },
   "file_extension": ".py",
   "mimetype": "text/x-python",
   "name": "python",
   "nbconvert_exporter": "python",
   "pygments_lexer": "ipython3",
   "version": "3.9.12"
  },
  "vscode": {
   "interpreter": {
    "hash": "b09ec625f77bf4fd762565a912b97636504ad6ec901eb2d0f4cf5a7de23e1ee5"
   }
  }
 },
 "nbformat": 4,
 "nbformat_minor": 2
}
