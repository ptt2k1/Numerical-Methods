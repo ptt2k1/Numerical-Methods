{
 "cells": [
  {
   "attachments": {},
   "cell_type": "markdown",
   "metadata": {},
   "source": [
    "# 1. Code của chương trình. Khi sử dụng code thì \"Run All\" và thao tác ở task \"Chạy chương trình\""
   ]
  },
  {
   "cell_type": "code",
   "execution_count": 1,
   "metadata": {},
   "outputs": [],
   "source": [
    "import numpy as np\n",
    "import pandas as pd"
   ]
  },
  {
   "cell_type": "code",
   "execution_count": 2,
   "metadata": {},
   "outputs": [],
   "source": [
    "def doc_input (ten_file):\n",
    "    #tra ve gia tri cua x va y tu file input.txt\n",
    "    # doc file input.txt\n",
    "    inp = open(ten_file, \"r\")\n",
    "    # doc du lieu cua x va y\n",
    "    x = inp.readline()\n",
    "    y = inp.readline()\n",
    "    # xu ly du lieu cua x va y\n",
    "    x = x.strip().split()\n",
    "    x = np.array(x, dtype=float)\n",
    "    if (y == \"\"):\n",
    "        y = f(x)\n",
    "        y = np.array(y, dtype=float)\n",
    "        inp.close()\n",
    "    else:\n",
    "        y = y.strip().split()\n",
    "        y = np.array(y, dtype=float)\n",
    "        inp.close()\n",
    "    return x, y\n",
    "\n",
    "def hoocnerChia(a, value):\n",
    "    b = [a[0]]\n",
    "    for i in range(1, len(a)):\n",
    "        b.append(a[i] + b[i - 1] * value)\n",
    "    return b\n",
    "    \n",
    "def hoocne_product(x):\n",
    "    a = []\n",
    "    Li = [np.array([1])]\n",
    "    a.append(np.array([1, 0]))\n",
    "    for i in x:\n",
    "        b = a[-1]\n",
    "        c = []\n",
    "        c.append(1)\n",
    "        for j in range(len(b) - 1):\n",
    "            c.append(b[j + 1]- b[j] * i)\n",
    "        c.append(0)\n",
    "        a.append(np.array(c))\n",
    "        Li.append(np.delete(a[-1], -1))\n",
    "    return Li\n",
    "\n",
    "def hoocne_quatient(a, x):\n",
    "    y = []\n",
    "    y.append(a[0])\n",
    "    for i in range(len(a) - 1):\n",
    "        y.append(y[i] * x + a[i + 1])\n",
    "    b = np.array(y[:-1])\n",
    "    b_0 = np.array(y[-1])\n",
    "    return b, b_0\n",
    "\n",
    "def nsNewton_bat_ki(x, y):\n",
    "    P = []\n",
    "    Z = []\n",
    "    Li = hoocne_product(x)\n",
    "    for i in range(x.shape[0]):\n",
    "        z = [y[i]]\n",
    "        for j in range(i):\n",
    "            z.append((z[j] - Z[i - 1][j]) / (x[i] - x[i - j - 1]))\n",
    "        Z.append(np.array(z))\n",
    "        Fi = Z[i][i]\n",
    "        if i == 0:\n",
    "            P.append(np.array(Fi * Li[i]))\n",
    "        else:\n",
    "            P.append(np.concatenate((np.array([0]), P[i - 1])) + Fi * Li[i])\n",
    "    return P[-1].tolist()"
   ]
  },
  {
   "attachments": {},
   "cell_type": "markdown",
   "metadata": {},
   "source": [
    "# Chạy chương trình"
   ]
  },
  {
   "attachments": {},
   "cell_type": "markdown",
   "metadata": {},
   "source": [
    "## 1. Nhập dữ liệu"
   ]
  },
  {
   "attachments": {},
   "cell_type": "markdown",
   "metadata": {},
   "source": [
    "Demo"
   ]
  },
  {
   "cell_type": "code",
   "execution_count": 3,
   "metadata": {},
   "outputs": [
    {
     "name": "stdout",
     "output_type": "stream",
     "text": [
      "Mốc nội suy x: [2.  2.2 2.4 2.6 2.8 2.5 2.1]\n",
      "Mốc nội suy y: [1.2837 1.9034 1.8885 1.0938 0.1662 1.8179 1.6924]\n",
      "\n",
      "Đa thức nội suy là: \n",
      "Bậc đa thức nội suy: 6\n",
      "\n",
      "1253.4647817460336 x^6\n",
      "-17617.1473214286 x^5\n",
      "102876.34536210334 x^4\n",
      "-319504.49568452436 x^3\n",
      "556613.4713561517 x^2\n",
      "-515735.6240940485 x^1\n",
      "198560.0544000004 x^0\n"
     ]
    }
   ],
   "source": [
    "x, y = doc_input(\"inputNewtonBatKy.txt\")\n",
    "print(\"Mốc nội suy x: {0}\".format(x))\n",
    "print(\"Mốc nội suy y: {0}\\n\".format(y))\n",
    "a = nsNewton_bat_ki(x, y)\n",
    "print(\"Đa thức nội suy là: \\nBậc đa thức nội suy: {0}\\n\".format(len(a) - 1))\n",
    "for i in range(len(a)):\n",
    "    print(\"{0} x^{1}\".format(a[i], len(a)-1-i))"
   ]
  },
  {
   "attachments": {},
   "cell_type": "markdown",
   "metadata": {},
   "source": [
    "## 2. Tính giá trị đa thức tại một điểm bất kì"
   ]
  },
  {
   "cell_type": "code",
   "execution_count": 4,
   "metadata": {},
   "outputs": [
    {
     "name": "stdout",
     "output_type": "stream",
     "text": [
      "Giá trị đa thức nội suy tại: x = 2.8\n",
      "Là: 0.16619999922113493\n"
     ]
    }
   ],
   "source": [
    "# Cần tính giá trị nội suy tại điểm x_\n",
    "x_ = 2.8\n",
    "\n",
    "print(\"Giá trị đa thức nội suy tại: x = {0}\\nLà: {1}\".format(x_, hoocnerChia(a, x_).pop()))"
   ]
  }
 ],
 "metadata": {
  "kernelspec": {
   "display_name": "Python 3",
   "language": "python",
   "name": "python3"
  },
  "language_info": {
   "codemirror_mode": {
    "name": "ipython",
    "version": 3
   },
   "file_extension": ".py",
   "mimetype": "text/x-python",
   "name": "python",
   "nbconvert_exporter": "python",
   "pygments_lexer": "ipython3",
   "version": "3.10.4 (tags/v3.10.4:9d38120, Mar 23 2022, 23:13:41) [MSC v.1929 64 bit (AMD64)]"
  },
  "orig_nbformat": 4,
  "vscode": {
   "interpreter": {
    "hash": "beedbe2faf2f7048d727558d0bc3221e7eba2a0b921cac4d4771b2feb8f74b30"
   }
  }
 },
 "nbformat": 4,
 "nbformat_minor": 2
}
