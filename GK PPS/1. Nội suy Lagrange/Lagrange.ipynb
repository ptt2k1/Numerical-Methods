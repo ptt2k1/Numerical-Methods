{
 "cells": [
  {
   "attachments": {},
   "cell_type": "markdown",
   "metadata": {},
   "source": [
    "# 1. Code của chương trình. Khi sử dụng code thì \"Run All\" và thao tác ở task \"Chạy chương trình\""
   ]
  },
  {
   "cell_type": "code",
   "execution_count": 1,
   "metadata": {},
   "outputs": [],
   "source": [
    "import numpy as np\n",
    "import pandas as pd"
   ]
  },
  {
   "cell_type": "code",
   "execution_count": 3,
   "metadata": {},
   "outputs": [],
   "source": [
    "def doc_input (ten_file):\n",
    "    #tra ve gia tri cua x va y tu file input.txt\n",
    "    # doc file input.txt\n",
    "    inp = open(ten_file, \"r\")\n",
    "    # doc du lieu cua x va y\n",
    "    x = inp.readline()\n",
    "    y = inp.readline()\n",
    "    # xu ly du lieu cua x va y\n",
    "    x = x.strip().split()\n",
    "    x = np.array(x, dtype=float)\n",
    "    if (y == \"\"):\n",
    "        y = f(x)\n",
    "        y = np.array(y, dtype=float)\n",
    "        inp.close()\n",
    "    else:\n",
    "        y = y.strip().split()\n",
    "        y = np.array(y, dtype=float)\n",
    "        inp.close()\n",
    "    return x, y\n",
    "    \n",
    "def hoocnerNhan(x):\n",
    "    a = [1, -x[0]]\n",
    "    for i in range(1, len(x)):\n",
    "        a.append(0)\n",
    "        temp = a.copy()\n",
    "        for j in range(1, len(a)):\n",
    "            a[j] = temp[j] - temp[j - 1] * x[i]\n",
    "        a[0] = 1\n",
    "    return a\n",
    "    \n",
    "def hoocnerChia(a, value):\n",
    "    b = [a[0]]\n",
    "    for i in range(1, len(a)):\n",
    "        b.append(a[i] + b[i - 1] * value)\n",
    "    return b\n",
    "\n",
    "def noiSuyLagrange(x, y):\n",
    "    a = np.zeros(len(x))\n",
    "    phi = hoocnerNhan(x)\n",
    "    for i in range(len(x)):\n",
    "        omega = hoocnerChia(phi, x[i])\n",
    "        omega.pop()\n",
    "        k = y[i]/hoocnerChia(omega, x[i]).pop()\n",
    "        for j in range(len(a)):\n",
    "            a[j] += k * omega[j]\n",
    "    return a.tolist()"
   ]
  },
  {
   "attachments": {},
   "cell_type": "markdown",
   "metadata": {},
   "source": [
    "## 1. Nhập dữ liệu"
   ]
  },
  {
   "attachments": {},
   "cell_type": "markdown",
   "metadata": {},
   "source": [
    "Demo"
   ]
  },
  {
   "cell_type": "code",
   "execution_count": 4,
   "metadata": {},
   "outputs": [
    {
     "name": "stdout",
     "output_type": "stream",
     "text": [
      "Mốc nội suy x: [2.  2.2 2.4 2.6 2.8 2.5 2.1]\n",
      "Mốc nội suy y: [1.2837 1.9034 1.8885 1.0938 0.1662 1.8179 1.6924]\n",
      "\n",
      "Đa thức nội suy là: Bậc đa thức nội suy: 6\n",
      "1253.4648703085904 x^6\n",
      "-17617.14856348945 x^5\n",
      "102876.35259742173 x^4\n",
      "-319504.51809333917 x^3\n",
      "556613.5102756657 x^2\n",
      "-515735.6600357846 x^1\n",
      "198560.06818876555 x^0\n"
     ]
    }
   ],
   "source": [
    "x, y = doc_input(\"inputLagrange.txt\")\n",
    "print(\"Mốc nội suy x: {0}\".format(x))\n",
    "print(\"Mốc nội suy y: {0}\\n\".format(y))\n",
    "a = noiSuyLagrange(x, y)\n",
    "print(\"Đa thức nội suy là: Bậc đa thức nội suy: {0}\".format(len(a) - 1))\n",
    "for i in range(len(a)):\n",
    "    print(\"{0} x^{1}\".format(a[i], len(a)-1-i))"
   ]
  },
  {
   "attachments": {},
   "cell_type": "markdown",
   "metadata": {},
   "source": [
    "## 2. Tính giá trị tại một điểm bất kì"
   ]
  },
  {
   "cell_type": "code",
   "execution_count": 9,
   "metadata": {},
   "outputs": [
    {
     "name": "stdout",
     "output_type": "stream",
     "text": [
      "Giá trị đa thức nội suy tại: x = 2.4\n",
      "Là: 1.8884999752626754\n"
     ]
    }
   ],
   "source": [
    "# Cần tính giá trị nội suy tại điểm x_\n",
    "x_ = 2.4\n",
    "\n",
    "print(\"Giá trị đa thức nội suy tại: x = {0}\\nLà: {1}\".format(x_, hoocnerChia(a, x_).pop()))"
   ]
  }
 ],
 "metadata": {
  "kernelspec": {
   "display_name": "base",
   "language": "python",
   "name": "python3"
  },
  "language_info": {
   "codemirror_mode": {
    "name": "ipython",
    "version": 3
   },
   "file_extension": ".py",
   "mimetype": "text/x-python",
   "name": "python",
   "nbconvert_exporter": "python",
   "pygments_lexer": "ipython3",
   "version": "3.9.12 (main, Apr  4 2022, 05:22:27) [MSC v.1916 64 bit (AMD64)]"
  },
  "orig_nbformat": 4,
  "vscode": {
   "interpreter": {
    "hash": "610a6f344c2137faf927ea819c63f6cee33a2c04455044b28099f39fe9722347"
   }
  }
 },
 "nbformat": 4,
 "nbformat_minor": 2
}
