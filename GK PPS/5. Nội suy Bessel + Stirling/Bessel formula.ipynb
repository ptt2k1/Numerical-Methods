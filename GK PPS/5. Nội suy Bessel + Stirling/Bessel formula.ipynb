{
 "cells": [
  {
   "attachments": {},
   "cell_type": "markdown",
   "metadata": {},
   "source": [
    "# Điều kiện: các mốc là cách đều nhau và số mốc sử dụng là một số lẻ"
   ]
  },
  {
   "attachments": {},
   "cell_type": "markdown",
   "metadata": {},
   "source": [
    "# 1. Code của chương trình. Khi sử dụng code thì \"Run All\" và thao tác ở task \"Chạy chương trình\""
   ]
  },
  {
   "cell_type": "code",
   "execution_count": 2,
   "metadata": {},
   "outputs": [],
   "source": [
    "import pandas as pd\n",
    "import numpy as np\n",
    "import matplotlib.pyplot as plt"
   ]
  },
  {
   "cell_type": "code",
   "execution_count": 3,
   "metadata": {},
   "outputs": [],
   "source": [
    "def doc_input (ten_file):\n",
    "    #tra ve gia tri cua x va y tu file input.txt\n",
    "    # doc file input.txt\n",
    "    inp = open(ten_file, \"r\")\n",
    "    # doc du lieu cua x va y\n",
    "    x = inp.readline()\n",
    "    y = inp.readline()\n",
    "    # xu ly du lieu cua x va y\n",
    "    x = x.strip().split()\n",
    "    x = np.array(x, dtype=float)\n",
    "    if (y == \"\"):\n",
    "        y = f(x)\n",
    "        y = np.array(y, dtype=float)\n",
    "        inp.close()\n",
    "    else:\n",
    "        y = y.strip().split()\n",
    "        y = np.array(y, dtype=float)\n",
    "        inp.close()\n",
    "    return x, y\n",
    "    \n",
    "def hoocnerChia(a, value):\n",
    "    b = []\n",
    "    b.append(a[0])\n",
    "    for i in range(1, len(a)):\n",
    "        b.append(b[i - 1] * value + a[i])\n",
    "    return b\n",
    "\n",
    "def hoocnerNhanBosung(coeffPolyTich, t):\n",
    "    if len(coeffPolyTich) == 0:\n",
    "        coeffPolyTich.append(1)\n",
    "        coeffPolyTich.append(-t)\n",
    "    else:\n",
    "        coeffPolyTich.append(0)\n",
    "        temp = coeffPolyTich.copy()\n",
    "        for i in range(1, len(coeffPolyTich)):\n",
    "            coeffPolyTich[i] = coeffPolyTich[i] - t * temp[i - 1]\n",
    "    return coeffPolyTich\n",
    "\n",
    "def saiPhan(f_0, f_1, yk, x0, xk):\n",
    "    if xk > x0:\n",
    "        temp = f_0.copy()\n",
    "        f_0.append(0)\n",
    "        f_0[0] = yk\n",
    "        for i in range(1, len(f_0)):\n",
    "            f_0[i] = f_0[i - 1] - temp[i - 1]\n",
    "        f_1.append(f_0[len(f_0) - 1])\n",
    "    else:\n",
    "        temp = f_1.copy()\n",
    "        f_1.append(0)\n",
    "        f_1[0] = yk\n",
    "        for i in range(1, len(f_1)):\n",
    "            f_1[i] = temp[i - 1] - f_1[i - 1]\n",
    "        f_0.append(f_1[len(f_1) - 1])\n",
    "    return f_0, f_1\n",
    "\n",
    "def besselFormula(heSoDaThuc, coeffTich, f_0, f_1, k, x0, x1, x2, y1, y2, giaiThua_k):\n",
    "    #da thuc theo an u\n",
    "    if k == 0: #Buoc co so\n",
    "        heSoDaThuc.append(y2 - y1)\n",
    "        heSoDaThuc.append((y1 + y2)/2)\n",
    "        f_0.append(y2)\n",
    "        f_1.append(y1)\n",
    "        f_0.append(y2 - y1)\n",
    "        f_1.append(y2 - y1)\n",
    "        giaiThua_k = 1\n",
    "    else:\n",
    "        f_0, f_1 = saiPhan(f_0, f_1, y1, x0, x1)\n",
    "        f_0, f_1 = saiPhan(f_0, f_1, y2, x0, x2)\n",
    "\n",
    "        #su dung dat p = u^2: p - 1/4; p - 9/4 ...; p - (k - 1)^2/4\n",
    "        coeffTich = hoocnerNhanBosung(coeffTich, (k - 1)**2/4)\n",
    "\n",
    "        giaiThua_k *= len(heSoDaThuc)\n",
    "        c_chan = (f_1[len(f_1) - 2] + f_0[(len(f_0) - 2)]) / (2 * giaiThua_k)\n",
    "        giaiThua_k *= len(heSoDaThuc) + 1\n",
    "        c_le = f_1[len(f_1) - 1] / giaiThua_k\n",
    "        \n",
    "        #tinh he so da thuc k le\n",
    "        heSoDaThucCu = heSoDaThuc.copy()\n",
    "        heSoDaThuc.append(0)\n",
    "        for j in range(1, len(heSoDaThuc)):\n",
    "            if j % 2 == 0:\n",
    "                heSoDaThuc[j] = heSoDaThucCu[j - 1] + c_chan * coeffTich[int(j / 2)]\n",
    "            else:\n",
    "                heSoDaThuc[j] = heSoDaThucCu[j - 1]\n",
    "        heSoDaThuc[0] = c_chan\n",
    "\n",
    "        #tinh he so da thuc k chan\n",
    "        heSoDaThucCu = heSoDaThuc.copy()\n",
    "        heSoDaThuc.append(0)\n",
    "        for j in range(1, len(heSoDaThuc)):\n",
    "            if j % 2 == 0:\n",
    "                heSoDaThuc[j] = heSoDaThucCu[j - 1] + c_le * coeffTich[int((j + 1) / 2)]\n",
    "            else:\n",
    "                heSoDaThuc[j] = heSoDaThucCu[j - 1]\n",
    "        heSoDaThuc[0] = c_le\n",
    "\n",
    "    return heSoDaThuc, coeffTich, f_0, f_1, giaiThua_k"
   ]
  },
  {
   "cell_type": "code",
   "execution_count": 4,
   "metadata": {},
   "outputs": [],
   "source": [
    "def sortData(path):\n",
    "    if path.endswith('.csv'):\n",
    "        data = pd.read_csv(path)\n",
    "        dataX = data['x']\n",
    "        dataY = data['y']\n",
    "    elif path.endswith('.txt'):\n",
    "        print(\"su dung doc file .txt\")\n",
    "        dataX, dataY = doc_input(\"input.txt\")\n",
    "    for i in range(len(dataX)):\n",
    "        indexMin = i\n",
    "        for j in range(i + 1, len(dataX)):\n",
    "            if dataX[j] < dataX[indexMin]:\n",
    "                indexMin = j\n",
    "        if indexMin != i:\n",
    "            dataX[indexMin], dataX[i] = dataX[i], dataX[indexMin]\n",
    "            dataY[indexMin], dataY[i] = dataY[i], dataY[indexMin]\n",
    "    return dataX, dataY\n",
    "\n",
    "def kiemTraMoc(dataX, x0):\n",
    "    h = dataX[1] - dataX[0]\n",
    "    m = round((x0 - dataX[0])/h)\n",
    "    if x0 > dataX[len(dataX) - 1] or x0 < dataX[0] or x0 - (dataX[0] + m * h) > 1e-10:\n",
    "        print(\"Moc noi suy duoc chon ban dau la khong hop le\")\n",
    "        print(\"Quay lai, chon lai moc noi suy\")\n",
    "    else:\n",
    "        print(\"Moc noi suy ban dau hop le. Chuong trinh tiep tuc\")\n",
    "\n",
    "def checkSoMoc(dataX, soMoc, x0):\n",
    "    h = dataX[1] - dataX[0]\n",
    "    m = round((x0 - dataX[0])/h)\n",
    "    if m <= len(dataX)/2:\n",
    "        n = 2 * m + 1\n",
    "    else:\n",
    "        n = 2 * (len(dataX) - m) + 1\n",
    "    if n > len(dataX):\n",
    "        n = len(dataX)\n",
    "        \n",
    "    #check xem so moc chon co hop le hay khong\n",
    "    if soMoc > n or soMoc <= 0 or soMoc % 2 == 1:\n",
    "        print(\"so luong moc lua chon la khong hop le\")\n",
    "        print(\"Nhap lai so moc. So moc phai la so chan thuoc trong khoang tu:\", 0, \"->\", n)\n",
    "    else:\n",
    "        print(\"so luong moc la hop le. Tiep tuc chuong trinh\")\n",
    "        \n",
    "def sortGauss(dataX, dataY, x0, soMoc):\n",
    "    x = []\n",
    "    y = []\n",
    "    m = round((x0 - dataX[0]) / (dataX[1] - dataX[0]))\n",
    "    for i in range(soMoc):\n",
    "        if i % 2 == 1:\n",
    "            k = int((i + 1)/2)\n",
    "            x.append(dataX[m + k])\n",
    "            y.append(dataY[m + k])\n",
    "        else:\n",
    "            k = int(-(i + 1)/2)\n",
    "            x.append(dataX[m + k])\n",
    "            y.append(dataY[m + k])\n",
    "    return x, y"
   ]
  },
  {
   "cell_type": "code",
   "execution_count": 5,
   "metadata": {},
   "outputs": [],
   "source": [
    "def main(dataX, dataY, x0, soMoc):\n",
    "    heSoDaThuc = []\n",
    "    coeffTich = []\n",
    "    f_0 = [] \n",
    "    f_1 = [] \n",
    "    giaiThua_k = 1\n",
    "    h = dataX[1] - dataX[0]\n",
    "    with open(\"output.txt\", \"w\") as out:\n",
    "        x, y = sortGauss(dataX, dataY, x0, soMoc)\n",
    "        print(\"Các mốc đã sử dụng là: \\nx = {0}\\ny = {1}\".format(x, y))\n",
    "        for i in range(0, soMoc, 2):\n",
    "            heSoDaThuc, coeffTich, f_0, f_1, giaiThua_k = besselFormula(heSoDaThuc, coeffTich, f_0, f_1, i, x0, x[i], x[i + 1], y[i], y[i + 1], giaiThua_k)\n",
    "            \n",
    "            out.writelines(\"\\n\\n--------------------------------------------------------------------------------------\")\n",
    "            out.writelines(\"\\nDa thuc moi sau khi them moc 2 noi suy: ({}, {}); ({}, {}): \".format(x[i], y[i], x[i + 1], y[i + 1]))\n",
    "            out.write(\"\\nTap cac moc noi suy: \\t\")\n",
    "            for j in range(i + 2):\n",
    "                out.write(\"({}, {}); \\t\".format(x[j], y[j]))\n",
    "            out.write(\"\\nDa thuc bac {}: \\nP(t) =: \".format(i + 1))\n",
    "            for j in range(len(heSoDaThuc)):\n",
    "                out.write(\"{} * x^{} \\t + \\t\".format(heSoDaThuc[j], len(heSoDaThuc) - 1 - j))\n",
    "            out.write(\"\\n\\nThu lai\\n\")\n",
    "            for j in range(i + 2):\n",
    "                out.writelines(\"\\nTai du lieu x = {}\".format(x[j]))\n",
    "                u = (x[j] - x[0])/h - 1/2\n",
    "                a = hoocnerChia(heSoDaThuc, u)\n",
    "                out.writelines(\"\\nPn(x) - y = {}\".format(a[len(heSoDaThuc) - 1] - y[j]))\n",
    "    return heSoDaThuc, coeffTich, f_0, f_1, giaiThua_k"
   ]
  },
  {
   "attachments": {},
   "cell_type": "markdown",
   "metadata": {},
   "source": [
    "# 2. Chạy chương trình"
   ]
  },
  {
   "cell_type": "code",
   "execution_count": 6,
   "metadata": {},
   "outputs": [
    {
     "name": "stdout",
     "output_type": "stream",
     "text": [
      "Các mốc đã sử dụng là: \n",
      "x = [2.6, 2.8, 2.4, 3.0, 2.2, 3.2]\n",
      "y = [1.0938, 0.1662, 1.8885, 1.8179, 1.9034, 1.6924]\n",
      "\n",
      "Đa thức nội suy có bậc là:  5\n",
      "Hệ số của đa thức nội suy là: \n",
      "-0.07611666666666668 x^5\n",
      "-0.10423750000000002 x^4\n",
      "0.6423250000000001 x^3\n",
      "0.8721937500000001 x^2\n",
      "-1.0834239583333334 x^1\n",
      "0.41846640625 x^0\n"
     ]
    }
   ],
   "source": [
    "# Dữ liệu đầu vào\n",
    "x, y = doc_input(\"input.txt\")\n",
    "\n",
    "# Mốc ban đầu:\n",
    "x0 = 2.6\n",
    "\n",
    "# Số lượng mốc sử dụng:\n",
    "soMoc = 6\n",
    "\n",
    "heSodaThuc, coeffTich, f_0, f_1, giaiThua_k =  main(x, y, x0, soMoc)\n",
    "print(\"\\nĐa thức nội suy có bậc là: \", len(heSodaThuc) - 1)\n",
    "print(\"Hệ số của đa thức nội suy là: \")\n",
    "for i in range(len(heSodaThuc)):\n",
    "    print(\"{0} x^{1}\".format(heSodaThuc[i], len(heSodaThuc)-1-i))"
   ]
  },
  {
   "attachments": {},
   "cell_type": "markdown",
   "metadata": {},
   "source": [
    "## Tính giá trị đa thức nội suy tại một điểm bất kì"
   ]
  },
  {
   "cell_type": "code",
   "execution_count": 7,
   "metadata": {},
   "outputs": [
    {
     "name": "stdout",
     "output_type": "stream",
     "text": [
      "Giá trị của đa thức nội suy tại xk = 3\n",
      "Là: 1.817899999999995\n"
     ]
    }
   ],
   "source": [
    "# Điểm cần tính giá trị => cần chọn mốc ban đầu x0 gần xk\n",
    "xk = 3\n",
    "\n",
    "h = x[1] - x[0]\n",
    "u = (xk - x0)/h - 1/2\n",
    "print(\"Giá trị của đa thức nội suy tại xk = {0}\\nLà: {1}\".format(xk, hoocnerChia(heSodaThuc, u).pop()))"
   ]
  }
 ],
 "metadata": {
  "kernelspec": {
   "display_name": "Python 3.8.5 ('base')",
   "language": "python",
   "name": "python3"
  },
  "language_info": {
   "codemirror_mode": {
    "name": "ipython",
    "version": 3
   },
   "file_extension": ".py",
   "mimetype": "text/x-python",
   "name": "python",
   "nbconvert_exporter": "python",
   "pygments_lexer": "ipython3",
   "version": "3.8.5"
  },
  "orig_nbformat": 4,
  "vscode": {
   "interpreter": {
    "hash": "b09ec625f77bf4fd762565a912b97636504ad6ec901eb2d0f4cf5a7de23e1ee5"
   }
  }
 },
 "nbformat": 4,
 "nbformat_minor": 2
}
