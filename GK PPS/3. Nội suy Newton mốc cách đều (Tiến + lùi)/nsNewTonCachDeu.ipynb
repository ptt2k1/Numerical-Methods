{
 "cells": [
  {
   "attachments": {},
   "cell_type": "markdown",
   "metadata": {},
   "source": [
    "# 1. Code của chương trình. Khi sử dụng code thì \"Run All\" và thao tác ở task \"Chạy chương trình\""
   ]
  },
  {
   "cell_type": "code",
   "execution_count": 1,
   "metadata": {},
   "outputs": [],
   "source": [
    "import numpy as np\n",
    "import pandas as pd"
   ]
  },
  {
   "cell_type": "code",
   "execution_count": 2,
   "metadata": {},
   "outputs": [],
   "source": [
    "def doc_input (ten_file):\n",
    "    #tra ve gia tri cua x va y tu file input.txt\n",
    "    # doc file input.txt\n",
    "    inp = open(ten_file, \"r\")\n",
    "    # doc du lieu cua x va y\n",
    "    x = inp.readline()\n",
    "    y = inp.readline()\n",
    "    # xu ly du lieu cua x va y\n",
    "    x = x.strip().split()\n",
    "    x = np.array(x, dtype=float)\n",
    "    if (y == \"\"):\n",
    "        y = f(x)\n",
    "        y = np.array(y, dtype=float)\n",
    "        inp.close()\n",
    "    else:\n",
    "        y = y.strip().split()\n",
    "        y = np.array(y, dtype=float)\n",
    "        inp.close()\n",
    "    return x, y\n",
    "    \n",
    "def hoocnerChia(a, value):\n",
    "    b = [a[0]]\n",
    "    for i in range(1, len(a)):\n",
    "        b.append(a[i] + b[i - 1] * value)\n",
    "    return b\n",
    "\n",
    "def hoocnerNhanBoSung(coeffTich, t):\n",
    "    if len(coeffTich) == 0:\n",
    "        coeffTich.append(1)\n",
    "        coeffTich.append(-t)\n",
    "    else:\n",
    "        coeffTich.append(0)\n",
    "        temp = coeffTich.copy()\n",
    "        for i in range(1, len(coeffTich)):\n",
    "            coeffTich[i] = coeffTich[i] - t * temp[i - 1]\n",
    "    return coeffTich\n",
    "\n",
    "# Nội suy Newton tiến\n",
    "def saiPhanTien(delta, yk):\n",
    "    temp = delta.copy()\n",
    "    delta.append(0)\n",
    "    delta[0] = yk\n",
    "    for i in range(1, len(delta)):\n",
    "        delta[i] = delta[i - 1] - temp[i - 1]\n",
    "    return delta  \n",
    "\n",
    "def ns_NewtonTien(x, y):\n",
    "    a = [y[0]]\n",
    "    delta = [y[0]]\n",
    "    coeffTich = []\n",
    "    giaiThua_k = 1\n",
    "    for i in range(1, len(x)):\n",
    "        delta = saiPhanTien(delta, y[i])\n",
    "        coeffTich = hoocnerNhanBoSung(coeffTich, i - 1)    \n",
    "        giaiThua_k *= i\n",
    "        c = delta[len(delta) - 1]/ giaiThua_k\n",
    "        a_1 = a.copy()\n",
    "        a.append(0)\n",
    "        for j in range(1, len(a)):\n",
    "            a[j] = a_1[j - 1] + c * coeffTich[j]\n",
    "        a[0] = c\n",
    "    return a\n",
    "\n",
    "# Nội suy Newton lùi\n",
    "def saiPhanLui(lamda, yk):\n",
    "    temp = lamda.copy()\n",
    "    lamda.append(0)\n",
    "    lamda[0] = yk\n",
    "    for i in range(1, len(lamda)):\n",
    "        lamda[i] = temp[i - 1] - lamda[i - 1]\n",
    "    return lamda\n",
    "\n",
    "def ns_NewtonLui(x, y):\n",
    "    a = [y[len(y) - 1]]\n",
    "    lamda = [y[len(y) - 1]]\n",
    "    coeffTich = []\n",
    "    giaiThua_k = 1\n",
    "    for i in range(1, len(x)):\n",
    "        lamda = saiPhanLui(lamda, y[len(y) - 1 - i])\n",
    "        coeffTich = hoocnerNhanBoSung(coeffTich, 1 - i)    \n",
    "        giaiThua_k *= i\n",
    "        c = lamda[len(lamda) - 1]/ giaiThua_k\n",
    "        a_1 = a.copy()\n",
    "        a.append(0)\n",
    "        for j in range(1, len(a)):\n",
    "            a[j] = a_1[j - 1] + c * coeffTich[j]\n",
    "        a[0] = c\n",
    "    return a"
   ]
  },
  {
   "attachments": {},
   "cell_type": "markdown",
   "metadata": {},
   "source": [
    "# 2. Chạy chương trình"
   ]
  },
  {
   "attachments": {},
   "cell_type": "markdown",
   "metadata": {},
   "source": [
    "## Newton Tiến"
   ]
  },
  {
   "attachments": {},
   "cell_type": "markdown",
   "metadata": {},
   "source": [
    "### 1. Nhập dữ liệu"
   ]
  },
  {
   "attachments": {},
   "cell_type": "markdown",
   "metadata": {},
   "source": [
    "Demo"
   ]
  },
  {
   "cell_type": "code",
   "execution_count": 16,
   "metadata": {},
   "outputs": [
    {
     "name": "stdout",
     "output_type": "stream",
     "text": [
      "Đa thức nội suy NEWTON TIEN là: \n",
      "Bậc đa thức nội suy: 6\n",
      "\n",
      "-0.014454444444444449 x^6\n",
      "0.22742666666666675 x^5\n",
      "-1.3017236111111115 x^4\n",
      "3.401375000000001 x^3\n",
      "-4.372671944444446 x^2\n",
      "2.679748333333334 x^1\n",
      "1.2837 x^0\n"
     ]
    }
   ],
   "source": [
    "x, y = doc_input(\"inputNewtonCachDeu.txt\")\n",
    "a = ns_NewtonTien(x, y)\n",
    "print(\"Đa thức nội suy NEWTON TIEN là: \\nBậc đa thức nội suy: {0}\\n\".format(len(a) - 1))\n",
    "for i in range(len(a)):\n",
    "    print(\"{0} x^{1}\".format(a[i], len(a)-1-i))"
   ]
  },
  {
   "attachments": {},
   "cell_type": "markdown",
   "metadata": {},
   "source": [
    "### 2. Tính giá trị tại một điểm bất kì với Newton Tiến (Chú ý phải chuyến sang biến t) $$t = \\dfrac{x - x[0]}{h}$$"
   ]
  },
  {
   "cell_type": "code",
   "execution_count": 17,
   "metadata": {},
   "outputs": [
    {
     "name": "stdout",
     "output_type": "stream",
     "text": [
      "Giá trị đa thức nội suy tại: x = 2.2\n",
      "Là: 1.9034000000000004\n"
     ]
    }
   ],
   "source": [
    "# Cần tính giá trị nội suy tại điểm x_\n",
    "x_ = 2.2\n",
    "\n",
    "h = x[1] - x[0]\n",
    "t = (x_ - x[0])/h\n",
    "print(\"Giá trị đa thức nội suy tại: x = {0}\\nLà: {1}\".format(x_, hoocnerChia(a, t).pop()))"
   ]
  },
  {
   "attachments": {},
   "cell_type": "markdown",
   "metadata": {},
   "source": [
    "## Newton Lùi"
   ]
  },
  {
   "attachments": {},
   "cell_type": "markdown",
   "metadata": {},
   "source": [
    "### 1. Nhập dữ liệu"
   ]
  },
  {
   "cell_type": "code",
   "execution_count": 18,
   "metadata": {},
   "outputs": [
    {
     "name": "stdout",
     "output_type": "stream",
     "text": [
      "Đa thức nội suy NEWTON LÙI là: \n",
      "Bậc đa thức nội suy: 6\n",
      "\n",
      "-0.014454444444444449 x^6\n",
      "-0.29293333333333343 x^5\n",
      "-2.2843236111111116 x^4\n",
      "-8.409591666666667 x^3\n",
      "-14.073021944444447 x^2\n",
      "-7.794775000000002 x^1\n",
      "1.6924 x^0\n"
     ]
    }
   ],
   "source": [
    "x, y = doc_input(\"inputNewtonCachDeu.txt\")\n",
    "b = ns_NewtonLui(x, y)\n",
    "print(\"Đa thức nội suy NEWTON LÙI là: \\nBậc đa thức nội suy: {0}\\n\".format(len(b) - 1))\n",
    "for i in range(len(b)):\n",
    "    print(\"{0} x^{1}\".format(b[i], len(b)-1-i))"
   ]
  },
  {
   "attachments": {},
   "cell_type": "markdown",
   "metadata": {},
   "source": [
    "### 2. Tính giá trị tại một điểm bất kì với Newton Lùi (Chú ý phải chuyến sang biến t) $$t = \\dfrac{x - x[n]}{h}$$"
   ]
  },
  {
   "cell_type": "code",
   "execution_count": 19,
   "metadata": {},
   "outputs": [
    {
     "name": "stdout",
     "output_type": "stream",
     "text": [
      "Giá trị đa thức nội suy tại: x = 2.2\n",
      "Là: 1.903399999999983\n"
     ]
    }
   ],
   "source": [
    "# Cần tính giá trị nội suy tại điểm x_\n",
    "x_ = 2.2\n",
    "\n",
    "h = x[1] - x[0]\n",
    "t = (x_ - x[len(x) - 1])/h\n",
    "print(\"Giá trị đa thức nội suy tại: x = {0}\\nLà: {1}\".format(x_, hoocnerChia(b, t).pop()))"
   ]
  }
 ],
 "metadata": {
  "kernelspec": {
   "display_name": "Python 3",
   "language": "python",
   "name": "python3"
  },
  "language_info": {
   "codemirror_mode": {
    "name": "ipython",
    "version": 3
   },
   "file_extension": ".py",
   "mimetype": "text/x-python",
   "name": "python",
   "nbconvert_exporter": "python",
   "pygments_lexer": "ipython3",
   "version": "3.10.4 (tags/v3.10.4:9d38120, Mar 23 2022, 23:13:41) [MSC v.1929 64 bit (AMD64)]"
  },
  "orig_nbformat": 4,
  "vscode": {
   "interpreter": {
    "hash": "beedbe2faf2f7048d727558d0bc3221e7eba2a0b921cac4d4771b2feb8f74b30"
   }
  }
 },
 "nbformat": 4,
 "nbformat_minor": 2
}
