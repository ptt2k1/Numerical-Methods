{
 "cells": [
  {
   "cell_type": "code",
   "execution_count": 1,
   "metadata": {},
   "outputs": [],
   "source": [
    "import matplotlib.pyplot as plt\n",
    "import pandas as pd\n",
    "import numpy as np"
   ]
  },
  {
   "cell_type": "code",
   "execution_count": 2,
   "metadata": {},
   "outputs": [],
   "source": [
    "def hoocnerChia(a, value):\n",
    "    b = []\n",
    "    b.append(a[0])\n",
    "    for i in range(1, len(a)):\n",
    "        b.append(b[i - 1] * value + a[i])\n",
    "    return b"
   ]
  },
  {
   "cell_type": "code",
   "execution_count": 3,
   "metadata": {},
   "outputs": [],
   "source": [
    "def hoocnerNhanBosung(coeffPolyTich, t):\n",
    "    if len(coeffPolyTich) == 0:\n",
    "        coeffPolyTich.append(1)\n",
    "        coeffPolyTich.append(-t)\n",
    "    else:\n",
    "        coeffPolyTich.append(0)\n",
    "        temp = coeffPolyTich.copy()\n",
    "        for i in range(1, len(coeffPolyTich)):\n",
    "            coeffPolyTich[i] = coeffPolyTich[i] - t * temp[i - 1]\n",
    "    return coeffPolyTich"
   ]
  },
  {
   "cell_type": "code",
   "execution_count": 4,
   "metadata": {},
   "outputs": [],
   "source": [
    "def saiPhan(f_0, f_1, yk, x0, xk):\n",
    "    if xk > x0:\n",
    "        temp = f_0.copy()\n",
    "        f_0.append(0)\n",
    "        f_0[0] = yk\n",
    "        for i in range(1, len(f_0)):\n",
    "            f_0[i] = f_0[i - 1] - temp[i - 1]\n",
    "        f_1.append(f_0[len(f_0) - 1])\n",
    "    else:\n",
    "        temp = f_1.copy()\n",
    "        f_1.append(0)\n",
    "        f_1[0] = yk\n",
    "        for i in range(1, len(f_1)):\n",
    "            f_1[i] = temp[i - 1] - f_1[i - 1]\n",
    "        f_0.append(f_1[len(f_1) - 1])\n",
    "    return f_0, f_1"
   ]
  },
  {
   "cell_type": "code",
   "execution_count": 5,
   "metadata": {},
   "outputs": [],
   "source": [
    "def noiSuyTrungTamGauss(heSodaThuc, coeffTich, f_0, f_1, k, x0, xk, yk, giaiThua_k, choose):\n",
    "    if k == 0:\n",
    "        heSodaThuc.append(yk)\n",
    "        f_0.append(yk)\n",
    "        f_1.append(yk)\n",
    "        giaiThua_k = 1\n",
    "    else:\n",
    "        heSoDaThucCu = heSodaThuc.copy()\n",
    "        f_0, f_1 = saiPhan(f_0, f_1, yk, x0, xk)\n",
    "        giaiThua_k *= len(heSodaThuc)\n",
    "\n",
    "        #do qua trinh thay t vao thi k sai lech 1 don vi\n",
    "        if choose == \"Gauss1\":\n",
    "            if k > 0:\n",
    "                k = k - 1\n",
    "        if choose == \"Gauss2\":\n",
    "            if k < 0:\n",
    "                k = k + 1\n",
    "        coeffTich = hoocnerNhanBosung(coeffTich, - k)\n",
    "        c = f_1[len(f_1) - 1] / giaiThua_k\n",
    "        heSodaThuc.append(0)\n",
    "        for i in range(1, len(heSodaThuc)):\n",
    "            heSodaThuc[i] = heSoDaThucCu[i - 1] + c * coeffTich[i]\n",
    "        heSodaThuc[0] = c\n",
    "    return heSodaThuc, coeffTich, f_0, f_1, giaiThua_k"
   ]
  },
  {
   "cell_type": "code",
   "execution_count": 6,
   "metadata": {},
   "outputs": [],
   "source": [
    "def sortData(path):\n",
    "    if path.endswith('.csv'):\n",
    "        data = pd.read_csv(path)\n",
    "    elif path.endswith('.txt'):\n",
    "        print(\"su dung doc file .txt\")\n",
    "    dataX = data['x']\n",
    "    dataY = data['y']\n",
    "    for i in range(len(dataX)):\n",
    "        indexMin = i\n",
    "        for j in range(i + 1, len(dataX)):\n",
    "            if dataX[j] < dataX[indexMin]:\n",
    "                indexMin = j\n",
    "        if indexMin != i:\n",
    "            dataX[indexMin], dataX[i] = dataX[i], dataX[indexMin]\n",
    "            dataY[indexMin], dataY[i] = dataY[i], dataY[indexMin]\n",
    "    return dataX, dataY"
   ]
  },
  {
   "cell_type": "markdown",
   "metadata": {},
   "source": [
    "# Nhap vao moc noi suy ban dau"
   ]
  },
  {
   "cell_type": "markdown",
   "metadata": {},
   "source": [
    "## Truyen du lieu vao"
   ]
  },
  {
   "cell_type": "code",
   "execution_count": 7,
   "metadata": {},
   "outputs": [],
   "source": [
    "path = 'input.csv'\n",
    "dataX, dataY = sortData(path)\n",
    "def kiemTraMoc(dataX, x0):\n",
    "    h = dataX[1] - dataX[0]\n",
    "    m = round((x0 - dataX[0])/h)\n",
    "    if x0 > dataX[len(dataX) - 1] or x0 < dataX[0] or x0 - (dataX[0] + m * h) > 1e-10:\n",
    "        print(\"Moc noi suy duoc chon ban dau la khong hop le\")\n",
    "        print(\"Quay lai, chon lai moc noi suy\")\n",
    "    else:\n",
    "        print(\"Moc noi suy ban dau hop le. Chuong trinh tiep tuc\")\n"
   ]
  },
  {
   "cell_type": "markdown",
   "metadata": {},
   "source": [
    "## Chon moc noi suy ban dau x0"
   ]
  },
  {
   "cell_type": "code",
   "execution_count": 8,
   "metadata": {},
   "outputs": [
    {
     "name": "stdout",
     "output_type": "stream",
     "text": [
      "Moc noi suy ban dau hop le. Chuong trinh tiep tuc\n"
     ]
    }
   ],
   "source": [
    "#Lua chon moc noi suy ban dau\n",
    "x0 = 0.6\n",
    "kiemTraMoc(dataX, x0)"
   ]
  },
  {
   "cell_type": "markdown",
   "metadata": {},
   "source": [
    "# Chon so moc noi suy su dung"
   ]
  },
  {
   "cell_type": "code",
   "execution_count": 9,
   "metadata": {},
   "outputs": [],
   "source": [
    "def checkSoMoc(dataX, soMoc, x0):\n",
    "    h = dataX[1] - dataX[0]\n",
    "    m = round((x0 - dataX[0])/h)\n",
    "    if m <= len(dataX)/2:\n",
    "        n = 2 * m + 1\n",
    "    else:\n",
    "        n = 2 * (len(dataX) - m) + 1\n",
    "    if n > len(dataX):\n",
    "        n = len(dataX)\n",
    "        \n",
    "    #check xem so moc chon co hop le hay khong\n",
    "    if soMoc > n or soMoc <= 0 or soMoc % 2 == 0:\n",
    "        print(\"so luong moc lua chon la khong hop le\")\n",
    "        print(\"Nhap lai so moc. So moc phai la so le thuoc trong khoang tu:\", 0, \"->\", n)\n",
    "    else:\n",
    "        print(\"so luong moc la hop le. Tiep tuc chuong trinh\")"
   ]
  },
  {
   "cell_type": "code",
   "execution_count": 10,
   "metadata": {},
   "outputs": [
    {
     "name": "stdout",
     "output_type": "stream",
     "text": [
      "so luong moc la hop le. Tiep tuc chuong trinh\n"
     ]
    }
   ],
   "source": [
    "#lua chon so moc\n",
    "soMoc = 3\n",
    "checkSoMoc(dataX, soMoc, x0)"
   ]
  },
  {
   "cell_type": "markdown",
   "metadata": {},
   "source": [
    "# Sap du lieu theo Gauss1 hoac Gauss2"
   ]
  },
  {
   "cell_type": "code",
   "execution_count": 11,
   "metadata": {},
   "outputs": [],
   "source": [
    "def sortGauss1(dataX, dataY, x0, soMoc):\n",
    "    x = []\n",
    "    y = []\n",
    "    m = round((x0 - dataX[0]) / (dataX[1] - dataX[0]))\n",
    "    for i in range(soMoc):\n",
    "        if i % 2 == 1:\n",
    "            k = int((i + 1)/2)\n",
    "            x.append(dataX[m + k])\n",
    "            y.append(dataY[m + k])\n",
    "        else:\n",
    "            k = int(-(i + 1)/2)\n",
    "            x.append(dataX[m + k])\n",
    "            y.append(dataY[m + k])\n",
    "    return x, y"
   ]
  },
  {
   "cell_type": "code",
   "execution_count": 12,
   "metadata": {},
   "outputs": [],
   "source": [
    "def sortGauss2(dataX, dataY, x0, soMoc):\n",
    "    x = []\n",
    "    y = []\n",
    "    m = round((x0 - dataX[0]) / (dataX[1] - dataX[0]))\n",
    "    for i in range(soMoc):\n",
    "        if i % 2 == 1:\n",
    "            k = int(-(i + 1)/2)\n",
    "            x.append(dataX[m + k])\n",
    "            y.append(dataY[m + k])\n",
    "        else:\n",
    "            k = int((i + 1)/2)\n",
    "            x.append(dataX[m + k])\n",
    "            y.append(dataY[m + k])\n",
    "    return x, y"
   ]
  },
  {
   "cell_type": "markdown",
   "metadata": {},
   "source": [
    "# Ham main chay chuong trinh chinh"
   ]
  },
  {
   "cell_type": "code",
   "execution_count": 13,
   "metadata": {},
   "outputs": [],
   "source": [
    "def main(choose):\n",
    "    heSodaThuc = []\n",
    "    coeffTich = []\n",
    "    f_0 = [] \n",
    "    f_1 = [] \n",
    "    giaiThua_k = 1\n",
    "    h = dataX[1] - dataX[0]\n",
    "    m = round((x0 - dataX[0])/h)\n",
    "    with open(\"output.txt\", \"w\") as out:\n",
    "        if choose == \"Gauss1\":\n",
    "            x, y = sortGauss1(dataX, dataY, x0, soMoc)\n",
    "            for i in range(soMoc):\n",
    "                if i % 2 == 1:\n",
    "                    k = int((i + 1)/2)\n",
    "                else:\n",
    "                    k = int(-(i + 1)/2)\n",
    "                heSodaThuc, coeffTich, f_0, f_1, giaiThua_k = noiSuyTrungTamGauss(heSodaThuc, coeffTich, f_0, f_1, k, x0, x[i], y[i], giaiThua_k, choose)\n",
    "                \n",
    "                out.writelines(\"\\n\\n--------------------------------------------------------------------------------------\")\n",
    "                out.writelines(\"\\nDa thuc moi sau khi them moc noi suy: (x[{0}] = {1},  y[{0}] = {2}): \".format(m + k, x[i], y[i]))\n",
    "                out.write(\"\\nTap cac moc noi suy: \\t\")\n",
    "                for j in range(i + 1):\n",
    "                    out.write(\"({}, {}); \\t\".format(x[j], y[j]))\n",
    "                out.write(\"\\nDa thuc bac {}: \\nP(t) =: \".format(i))\n",
    "                for j in range(len(heSodaThuc)):\n",
    "                    out.write(\"{} * x^{} \\t + \\t\".format(heSodaThuc[j], len(heSodaThuc) - 1 - j))\n",
    "                out.write(\"\\n\\nThu lai\\n\")\n",
    "                for j in range(i + 1):\n",
    "                    out.writelines(\"\\nTai du lieu x = {}\".format(x[j]))\n",
    "                    a = hoocnerChia(heSodaThuc, (x[j] - x[0])/h)\n",
    "                    out.writelines(\"\\nPn(x) - y = {}\".format(a[len(heSodaThuc) - 1] - y[j]))\n",
    "        elif choose == \"Gauss2\":\n",
    "            x, y = sortGauss2(dataX, dataY, x0, soMoc)\n",
    "            for i in range(soMoc):\n",
    "                if i % 2 == 1:\n",
    "                    k = int(-(i + 1)/2)\n",
    "                else:\n",
    "                    k = int((i + 1)/2)\n",
    "                heSodaThuc, coeffTich, f_0, f_1, giaiThua_k = noiSuyTrungTamGauss(heSodaThuc, coeffTich, f_0, f_1, k, x0, x[i], y[i], giaiThua_k, choose)\n",
    "                \n",
    "                out.writelines(\"\\n\\n--------------------------------------------------------------------------------------\")\n",
    "                out.writelines(\"\\nDa thuc moi sau khi them moc noi suy: (x[{0}] = {1},  y[{0}] = {2}): \".format(m + k, x[i], y[i]))\n",
    "                out.write(\"\\nTap cac moc noi suy: \\t\")\n",
    "                for j in range(i + 1):\n",
    "                    out.write(\"({}, {}); \\t\".format(x[j], y[j]))\n",
    "                out.write(\"\\nDa thuc bac {}: \\nP(t) =: \".format(i))\n",
    "                for j in range(len(heSodaThuc)):\n",
    "                    out.write(\"{} * x^{} \\t + \\t\".format(heSodaThuc[j], len(heSodaThuc) - 1 - j))\n",
    "                out.write(\"\\n\\nThu lai\\n\")\n",
    "                for j in range(i + 1):\n",
    "                    out.writelines(\"\\nTai du lieu x = {}\".format(x[j]))\n",
    "                    a = hoocnerChia(heSodaThuc, (x[j] - x[0])/h)\n",
    "                    out.writelines(\"\\nPn(x) - y = {}\".format(a[len(heSodaThuc) - 1] - y[j]))\n",
    "    return heSodaThuc, coeffTich, f_0, f_1, giaiThua_k"
   ]
  },
  {
   "cell_type": "markdown",
   "metadata": {},
   "source": [
    "# Lua chon chuong trinh chay theo Gauss1 hoac Gauss2"
   ]
  },
  {
   "cell_type": "code",
   "execution_count": 14,
   "metadata": {},
   "outputs": [],
   "source": [
    "choose = \"Gauss1\"\n",
    "# choose = \"Gauss2\"\n",
    "heSodaThuc, coeffTich, f_0, f_1, giaiThua_k =  main(choose)"
   ]
  },
  {
   "cell_type": "markdown",
   "metadata": {},
   "source": [
    "# Ve bieu do the hien output"
   ]
  },
  {
   "cell_type": "code",
   "execution_count": 41,
   "metadata": {},
   "outputs": [
    {
     "data": {
      "image/png": "[encoded data removed]",
      "text/plain": [
       "<Figure size 576x360 with 1 Axes>"
      ]
     },
     "metadata": {
      "needs_background": "light"
     },
     "output_type": "display_data"
    }
   ],
   "source": [
    "if choose == \"Gauss1\":\n",
    "    x, y = sortGauss1(dataX, dataY, x0, soMoc)\n",
    "elif choose == \"Gauss2\":\n",
    "    x, y = sortGauss2(dataX, dataY, x0, soMoc)\n",
    "\n",
    "xTest = np.linspace(x[0] - 1, x[len(x) - 1] + 1, 50)\n",
    "h = dataX[1] - dataX[0]\n",
    "result = []\n",
    "for x1 in xTest:\n",
    "    result.append(hoocnerChia(heSodaThuc, (x1 - x[0])/h)[len(heSodaThuc) - 1])\n",
    "\n",
    "#ve bieu do duong\n",
    "plt.plot(xTest, result)\n",
    "plt.scatter(x, y, color = 'r')\n",
    "fig = plt.gcf()\n",
    "fig.set_size_inches(8,5, forward = False)\n",
    "\n",
    "plt.show()"
   ]
  }
 ],
 "metadata": {
  "interpreter": {
   "hash": "a8f61be024eba58adef938c9aa1e29e02cb3dece83a5348b1a2dafd16a070453"
  },
  "kernelspec": {
   "display_name": "Python 3.8.5 64-bit ('base': conda)",
   "language": "python",
   "name": "python3"
  },
  "language_info": {
   "codemirror_mode": {
    "name": "ipython",
    "version": 3
   },
   "file_extension": ".py",
   "mimetype": "text/x-python",
   "name": "python",
   "nbconvert_exporter": "python",
   "pygments_lexer": "ipython3",
   "version": "3.8.5"
  },
  "orig_nbformat": 4
 },
 "nbformat": 4,
 "nbformat_minor": 2
}
