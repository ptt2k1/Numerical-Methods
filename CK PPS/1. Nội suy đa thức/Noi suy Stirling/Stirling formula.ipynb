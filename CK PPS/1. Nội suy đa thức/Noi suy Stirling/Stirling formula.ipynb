{
 "cells": [
  {
   "cell_type": "markdown",
   "metadata": {},
   "source": [
    "# Công thức nội suy trung tâm Stirling "
   ]
  },
  {
   "cell_type": "markdown",
   "metadata": {},
   "source": [
    "## Điều kiện: các mốc là cách đều nhau và số mốc sử dụng là một số lẻ"
   ]
  },
  {
   "cell_type": "markdown",
   "metadata": {},
   "source": [
    "# Bắt đầu chương trình"
   ]
  },
  {
   "cell_type": "code",
   "execution_count": 1,
   "metadata": {},
   "outputs": [],
   "source": [
    "import pandas as pd\n",
    "import numpy as np\n",
    "import matplotlib.pyplot as plt"
   ]
  },
  {
   "cell_type": "code",
   "execution_count": 2,
   "metadata": {},
   "outputs": [],
   "source": [
    "def hoocnerChia(a, value):\n",
    "    b = []\n",
    "    b.append(a[0])\n",
    "    for i in range(1, len(a)):\n",
    "        b.append(b[i - 1] * value + a[i])\n",
    "    return b"
   ]
  },
  {
   "cell_type": "code",
   "execution_count": 3,
   "metadata": {},
   "outputs": [],
   "source": [
    "def hoocnerNhanBosung(coeffPolyTich, t):\n",
    "    if len(coeffPolyTich) == 0:\n",
    "        coeffPolyTich.append(1)\n",
    "        coeffPolyTich.append(-t)\n",
    "    else:\n",
    "        coeffPolyTich.append(0)\n",
    "        temp = coeffPolyTich.copy()\n",
    "        for i in range(1, len(coeffPolyTich)):\n",
    "            coeffPolyTich[i] = coeffPolyTich[i] - t * temp[i - 1]\n",
    "    return coeffPolyTich"
   ]
  },
  {
   "cell_type": "code",
   "execution_count": 4,
   "metadata": {},
   "outputs": [],
   "source": [
    "def saiPhan(f_0, f_1, x0, xk, yk):\n",
    "    if xk > x0:\n",
    "        temp = f_0.copy()\n",
    "        f_0.append(0)\n",
    "        f_0[0] = yk\n",
    "        for i in range(1, len(f_0)):\n",
    "            f_0[i] = f_0[i - 1] - temp[i - 1]\n",
    "        f_1.append(f_0[len(f_0) - 1])\n",
    "    else:\n",
    "        temp = f_1.copy()\n",
    "        f_1.append(0)\n",
    "        f_1[0] = yk\n",
    "        for i in range(1, len(f_1)):\n",
    "            f_1[i] = temp[i - 1] - f_1[i - 1]\n",
    "        f_0.append(f_1[len(f_1) - 1])\n",
    "    return f_0, f_1"
   ]
  },
  {
   "cell_type": "code",
   "execution_count": 5,
   "metadata": {},
   "outputs": [],
   "source": [
    "def stirlingFormula(heSoDaThuc, coeffTich, f_0, f_1, k, x0, x1, x2, y1, y2, giaiThua_k):\n",
    "    #da thuc theo an t; k được hiểu là mốc ở vị trí mốc thứ k thêm vào (vị trí y2)\n",
    "    #k luôn là số chẵn vì số mốc sử dụng là số lẻ\n",
    "    #bat dau chay ham voi k le bat dau tu 1\n",
    "    f_0, f_1 = saiPhan(f_0, f_1, x0, x2, y2)\n",
    "    f_0, f_1 = saiPhan(f_0, f_1, x0, x1, y1)\n",
    "\n",
    "    #su dung dat u = t^2 => t^2; t^2(t^2 - 1); t^2(t^2 - 1)(t^2 - 4); t^2(t^2 - 4)(t^2 - 9)\n",
    "    coeffTich = hoocnerNhanBosung(coeffTich, (k/2 - 1/2)**2)\n",
    "\n",
    "    giaiThua_k *= len(heSoDaThuc)\n",
    "    c_le = (f_1[len(f_1) - 2] + f_0[(len(f_0) - 2)]) / (2 * giaiThua_k)\n",
    "    giaiThua_k *= len(heSoDaThuc) + 1\n",
    "    c_chan = f_1[len(f_1) - 1] / giaiThua_k\n",
    "    \n",
    "    #tinh he so da thuc voi da thuc tich them vao la da thuc bac le\n",
    "    heSoDaThucCu = heSoDaThuc.copy()\n",
    "    heSoDaThuc.append(0)\n",
    "    for i in range(1, len(heSoDaThuc)):\n",
    "        if i % 2 == 0:\n",
    "            heSoDaThuc[i] = heSoDaThucCu[i - 1] + c_le * coeffTich[int((i + 1) / 2)]\n",
    "        else:\n",
    "            heSoDaThuc[i] = heSoDaThucCu[i - 1]\n",
    "    heSoDaThuc[0] = c_le\n",
    "\n",
    "    #tinh he so da thuc voi da thuc tich them vao la da thuc bac chan\n",
    "    heSoDaThucCu = heSoDaThuc.copy()\n",
    "    heSoDaThuc.append(0)\n",
    "    for i in range(1, len(heSoDaThuc)):\n",
    "        if i % 2 == 0:\n",
    "            heSoDaThuc[i] = heSoDaThucCu[i - 1] + c_chan * coeffTich[int((i + 1) / 2)]\n",
    "        else:\n",
    "            heSoDaThuc[i] = heSoDaThucCu[i - 1]\n",
    "    heSoDaThuc[0] = c_chan\n",
    "\n",
    "    return heSoDaThuc, coeffTich, f_0, f_1, giaiThua_k"
   ]
  },
  {
   "cell_type": "code",
   "execution_count": 6,
   "metadata": {},
   "outputs": [],
   "source": [
    "def sortData(path):\n",
    "    if path.endswith('.csv'):\n",
    "        data = pd.read_csv(path)\n",
    "    elif path.endswith('.txt'):\n",
    "        print(\"su dung doc file .txt\")\n",
    "    dataX = data['x']\n",
    "    dataY = data['y']\n",
    "    for i in range(len(dataX)):\n",
    "        indexMin = i\n",
    "        for j in range(i + 1, len(dataX)):\n",
    "            if dataX[j] < dataX[indexMin]:\n",
    "                indexMin = j\n",
    "        if indexMin != i:\n",
    "            dataX[indexMin], dataX[i] = dataX[i], dataX[indexMin]\n",
    "            dataY[indexMin], dataY[i] = dataY[i], dataY[indexMin]\n",
    "    return dataX, dataY"
   ]
  },
  {
   "cell_type": "markdown",
   "metadata": {},
   "source": [
    "# Nhập mốc nội suy ban đầu"
   ]
  },
  {
   "cell_type": "markdown",
   "metadata": {},
   "source": [
    "## Truyền dữ liệu vào và hàm kiểm tra điều kiện đầu vào của mốc ban đầu chọn"
   ]
  },
  {
   "cell_type": "code",
   "execution_count": 7,
   "metadata": {},
   "outputs": [],
   "source": [
    "path = 'input1.csv'\n",
    "dataX, dataY = sortData(path)\n",
    "def kiemTraMoc(dataX, x0):\n",
    "    h = dataX[1] - dataX[0]\n",
    "    m = round((x0 - dataX[0])/h)\n",
    "    if x0 > dataX[len(dataX) - 1] or x0 < dataX[0] or x0 - (dataX[0] + m * h) > 1e-10:\n",
    "        print(\"Moc noi suy duoc chon ban dau la khong hop le\")\n",
    "        print(\"Quay lai, chon lai moc noi suy\")\n",
    "    else:\n",
    "        print(\"Moc noi suy ban dau hop le. Chuong trinh tiep tuc\")"
   ]
  },
  {
   "cell_type": "markdown",
   "metadata": {},
   "source": [
    "## Chọn mốc nội suy ban đầu"
   ]
  },
  {
   "cell_type": "code",
   "execution_count": 8,
   "metadata": {},
   "outputs": [
    {
     "name": "stdout",
     "output_type": "stream",
     "text": [
      "Mang gia tri x 0    0.2\n",
      "1    0.4\n",
      "2    0.6\n",
      "3    0.8\n",
      "4    1.0\n",
      "5    3.0\n",
      "Name: x, dtype: float64\n"
     ]
    }
   ],
   "source": [
    "print(\"Mang gia tri x\", dataX)"
   ]
  },
  {
   "cell_type": "code",
   "execution_count": 9,
   "metadata": {},
   "outputs": [
    {
     "name": "stdout",
     "output_type": "stream",
     "text": [
      "Moc noi suy ban dau hop le. Chuong trinh tiep tuc\n"
     ]
    }
   ],
   "source": [
    "#Lua chon moc noi suy ban dau\n",
    "x0 = 0.6\n",
    "kiemTraMoc(dataX, x0)"
   ]
  },
  {
   "cell_type": "markdown",
   "metadata": {},
   "source": [
    "# Chọn số mốc nội suy sử dụng"
   ]
  },
  {
   "cell_type": "markdown",
   "metadata": {},
   "source": [
    "## Kiểm tra sự hợp lệ của số lượng mốc nội suy lựa chọn"
   ]
  },
  {
   "cell_type": "code",
   "execution_count": 10,
   "metadata": {},
   "outputs": [],
   "source": [
    "def checkSoMoc(dataX, soMoc, x0):\n",
    "    h = dataX[1] - dataX[0]\n",
    "    m = round((x0 - dataX[0])/h)\n",
    "    if m <= len(dataX)/2:\n",
    "        n = 2 * m + 1\n",
    "    else:\n",
    "        n = 2 * (len(dataX) - m) + 1\n",
    "    if n > len(dataX):\n",
    "        n = len(dataX)\n",
    "        \n",
    "    #check xem so moc chon co hop le hay khong. So moc noi suy su dung phai la so le\n",
    "    if soMoc > n or soMoc <= 0 or soMoc % 2 == 0:\n",
    "        print(\"so luong moc lua chon la khong hop le\")\n",
    "        print(\"Nhap lai so moc. So moc phai la so \\\"le\\\" thuoc trong khoang tu:\", 0, \"->\", n)\n",
    "    else:\n",
    "        print(\"so luong moc la hop le. Tiep tuc chuong trinh\")"
   ]
  },
  {
   "cell_type": "markdown",
   "metadata": {},
   "source": [
    "## Nhập vào số mốc nội suy lựa chọn"
   ]
  },
  {
   "cell_type": "code",
   "execution_count": 11,
   "metadata": {},
   "outputs": [
    {
     "name": "stdout",
     "output_type": "stream",
     "text": [
      "so luong moc la hop le. Tiep tuc chuong trinh\n"
     ]
    }
   ],
   "source": [
    "#lua chon so moc\n",
    "soMoc = 5\n",
    "checkSoMoc(dataX, soMoc, x0)"
   ]
  },
  {
   "cell_type": "markdown",
   "metadata": {},
   "source": [
    "# Sắp xếp lại dữ liệu theo trình tự thêm mốc nội suy"
   ]
  },
  {
   "cell_type": "code",
   "execution_count": 12,
   "metadata": {},
   "outputs": [],
   "source": [
    "def sortGauss(dataX, dataY, x0, soMoc):\n",
    "    x = []\n",
    "    y = []\n",
    "    m = round((x0 - dataX[0]) / (dataX[1] - dataX[0]))\n",
    "    for i in range(soMoc):\n",
    "        if i % 2 == 1:\n",
    "            k = int((i + 1)/2)\n",
    "            x.append(dataX[m + k])\n",
    "            y.append(dataY[m + k])\n",
    "        else:\n",
    "            k = int(-(i + 1)/2)\n",
    "            x.append(dataX[m + k])\n",
    "            y.append(dataY[m + k])\n",
    "    return x, y"
   ]
  },
  {
   "cell_type": "code",
   "execution_count": 13,
   "metadata": {},
   "outputs": [
    {
     "name": "stdout",
     "output_type": "stream",
     "text": [
      "[0.6, 0.8, 0.4, 1.0, 0.2]\n"
     ]
    }
   ],
   "source": [
    "x, y = sortGauss(dataX, dataY, x0, soMoc)\n",
    "print(x)"
   ]
  },
  {
   "cell_type": "markdown",
   "metadata": {},
   "source": [
    "# Hàm Main chương trình chính"
   ]
  },
  {
   "cell_type": "code",
   "execution_count": 14,
   "metadata": {},
   "outputs": [],
   "source": [
    "def main():\n",
    "    heSoDaThuc = []\n",
    "    coeffTich = []\n",
    "    f_0 = [] \n",
    "    f_1 = [] \n",
    "    giaiThua_k = 1\n",
    "    h = dataX[1] - dataX[0]\n",
    "    with open(\"output.txt\", \"w\") as out:\n",
    "        #buoc co so\n",
    "        x, y = sortGauss(dataX, dataY, x0, soMoc)\n",
    "        heSoDaThuc.append(y[0])\n",
    "        f_0.append(y[0])\n",
    "        f_1.append(y[0])\n",
    "        out.writelines(\"\\n\\nMoc noi suy ban dau duoc chon la: ({}, {})\".format(x[0], y[0]))\n",
    "        #cac buoc them dan 2 moc tiep theo\n",
    "        for i in range(1, soMoc, 2):\n",
    "            heSoDaThuc, coeffTich, f_0, f_1, giaiThua_k = stirlingFormula(heSoDaThuc, coeffTich, f_0, f_1, i, x0, x[i], x[i + 1], y[i], y[i + 1], giaiThua_k)\n",
    "            \n",
    "            out.writelines(\"\\n\\n--------------------------------------------------------------------------------------\")\n",
    "            out.writelines(\"\\nDa thuc moi sau khi them moc 2 noi suy: ({}, {}); ({}, {}) \".format(x[i], y[i], x[i + 1], y[i + 1]))\n",
    "            out.write(\"\\nTap cac moc noi suy: \\t\")\n",
    "            for j in range(i + 2):\n",
    "                out.write(\"({}, {}); \\t\".format(x[j], y[j]))\n",
    "            out.write(\"\\nDa thuc bac {}: \\nP(t) =: \".format(i + 1))\n",
    "            for j in range(len(heSoDaThuc)):\n",
    "                out.write(\"{} * x^{} \\t + \\t\".format(heSoDaThuc[j], len(heSoDaThuc) - 1 - j))\n",
    "            out.write(\"\\n\\nThu lai\\n\")\n",
    "            for j in range(i + 2):\n",
    "                out.writelines(\"\\nTai du lieu x = {}\".format(x[j]))\n",
    "                a = hoocnerChia(heSoDaThuc, (x[j] - x[0])/h)\n",
    "                out.writelines(\"\\nPn(x) - y = {}\".format(a[len(heSoDaThuc) - 1] - y[j]))\n",
    "    return heSoDaThuc, coeffTich, f_0, f_1, giaiThua_k"
   ]
  },
  {
   "cell_type": "code",
   "execution_count": 15,
   "metadata": {},
   "outputs": [],
   "source": [
    "heSoDaThuc, coeffTich, f_0, f_1, giaiThua_k = main()"
   ]
  },
  {
   "cell_type": "markdown",
   "metadata": {},
   "source": [
    "# Vẽ biểu đồ kết quả"
   ]
  },
  {
   "cell_type": "code",
   "execution_count": 22,
   "metadata": {},
   "outputs": [
    {
     "data": {
      "image/png": "[encoded data removed]",
      "text/plain": [
       "<Figure size 576x360 with 1 Axes>"
      ]
     },
     "metadata": {
      "needs_background": "light"
     },
     "output_type": "display_data"
    }
   ],
   "source": [
    "x, y = sortGauss(dataX, dataY, x0, soMoc)\n",
    "h = dataX[1] - dataX[0]\n",
    "xTest = np.linspace(x[0] - 3*h, x[len(x) - 1] + 5*h, 50)\n",
    "result = []\n",
    "for x1 in xTest:\n",
    "    t = (x1 - x[0])/h\n",
    "    result.append(hoocnerChia(heSoDaThuc, t)[len(heSoDaThuc) - 1])\n",
    "\n",
    "#ve bieu do duong\n",
    "plt.plot(xTest, result)\n",
    "plt.scatter(x, y, color = 'r')\n",
    "fig = plt.gcf()\n",
    "fig.set_size_inches(8,5, forward = False)\n",
    "\n",
    "plt.show()"
   ]
  }
 ],
 "metadata": {
  "interpreter": {
   "hash": "a8f61be024eba58adef938c9aa1e29e02cb3dece83a5348b1a2dafd16a070453"
  },
  "kernelspec": {
   "display_name": "Python 3.8.5 64-bit ('base': conda)",
   "language": "python",
   "name": "python3"
  },
  "language_info": {
   "codemirror_mode": {
    "name": "ipython",
    "version": 3
   },
   "file_extension": ".py",
   "mimetype": "text/x-python",
   "name": "python",
   "nbconvert_exporter": "python",
   "pygments_lexer": "ipython3",
   "version": "3.8.5"
  },
  "orig_nbformat": 4
 },
 "nbformat": 4,
 "nbformat_minor": 2
}
