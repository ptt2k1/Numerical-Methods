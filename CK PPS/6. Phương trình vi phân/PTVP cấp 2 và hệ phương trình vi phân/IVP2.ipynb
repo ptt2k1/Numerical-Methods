{
 "cells": [
  {
   "cell_type": "markdown",
   "metadata": {},
   "source": [
    "# Phương trình vi phân cấp 2 và hệ phương trình vi phân cấp 1 với 3 biến số"
   ]
  },
  {
   "cell_type": "markdown",
   "metadata": {},
   "source": [
    "# Phương trình vi phân cấp 2 sẽ đưa về dạng hệ phương trình vi phân cấp 1 với 3 biến số x, y, z bằng cách đặt z = y'"
   ]
  },
  {
   "cell_type": "code",
   "execution_count": 3,
   "metadata": {},
   "outputs": [],
   "source": [
    "import numpy as np\n",
    "import math\n",
    "import matplotlib.pyplot as plt"
   ]
  },
  {
   "cell_type": "markdown",
   "metadata": {},
   "source": [
    "## Input"
   ]
  },
  {
   "cell_type": "code",
   "execution_count": 4,
   "metadata": {},
   "outputs": [],
   "source": [
    "# y' = f(x, y, z)\n",
    "# z' = g(x, y, z)\n",
    "# y(x0) = y0\n",
    "# z(x0) = z0\n",
    "# Giá trị x cận trên X cần tính\n",
    "# Bước nhảy h\n",
    "def f(x, y, z):\n",
    "    return z\n",
    "def g(x, y, z):\n",
    "    return -x * z - y\n",
    "x0 = 0\n",
    "y0 = 0\n",
    "z0 = 1\n",
    "h = 0.1\n",
    "X = 0.5"
   ]
  },
  {
   "cell_type": "code",
   "execution_count": 9,
   "metadata": {},
   "outputs": [],
   "source": [
    "def IVPs(x0, y0, z0, h, X):\n",
    "    resultY = []\n",
    "    resultZ = []\n",
    "    N = round((X - x0)/h + 1)\n",
    "    resultY.append(y0)\n",
    "    resultZ.append(z0)\n",
    "    for i in range(1, N):\n",
    "        k1 = h * f(x0, y0, z0)\n",
    "        i1 = h * g(x0, y0, z0)\n",
    "        k2 = h * f(x0 + h/2, y0 + k1/2, z0 + i1/2)\n",
    "        i2 = h * g(x0 + h/2, y0 + k1/2, z0 + i1/2)\n",
    "        k3 = h * f(x0 + h/2, y0 + k2/2, z0 + i2/2)\n",
    "        i3 = h * g(x0 + h/2, y0 + k2/2, z0 + i2/2)\n",
    "        k4 = h * f(x0 + h, y0 + k3, z0 + i3)\n",
    "        i4 = h * g(x0 + h, y0 + k3, z0 + i3)\n",
    "        deltaY = k1 + 2*k2 + 2*k3 + k4\n",
    "        deltaZ = i1 + 2*i2 + 2*i3 + i4\n",
    "        x0 += h\n",
    "        y0 += deltaY/6\n",
    "        z0 += deltaZ/6\n",
    "        resultY.append(y0)\n",
    "        resultZ.append(z0)\n",
    "    return resultY, resultZ"
   ]
  },
  {
   "cell_type": "markdown",
   "metadata": {},
   "source": [
    "## output chạy chương trình và biểu đồ kết quả"
   ]
  },
  {
   "cell_type": "code",
   "execution_count": 10,
   "metadata": {},
   "outputs": [
    {
     "data": {
      "text/plain": [
       "[0,\n",
       " 0.09966708333333335,\n",
       " 0.19735406281023915,\n",
       " 0.2911592555827877,\n",
       " 0.3793331691171983,\n",
       " 0.46034335443504276]"
      ]
     },
     "execution_count": 10,
     "metadata": {},
     "output_type": "execute_result"
    }
   ],
   "source": [
    "resultY, resultZ = IVPs(x0, y0, z0, h, X)\n",
    "resultY"
   ]
  }
 ],
 "metadata": {
  "interpreter": {
   "hash": "a8f61be024eba58adef938c9aa1e29e02cb3dece83a5348b1a2dafd16a070453"
  },
  "kernelspec": {
   "display_name": "Python 3.8.5 64-bit ('base': conda)",
   "language": "python",
   "name": "python3"
  },
  "language_info": {
   "codemirror_mode": {
    "name": "ipython",
    "version": 3
   },
   "file_extension": ".py",
   "mimetype": "text/x-python",
   "name": "python",
   "nbconvert_exporter": "python",
   "pygments_lexer": "ipython3",
   "version": "3.8.5"
  },
  "orig_nbformat": 4
 },
 "nbformat": 4,
 "nbformat_minor": 2
}
