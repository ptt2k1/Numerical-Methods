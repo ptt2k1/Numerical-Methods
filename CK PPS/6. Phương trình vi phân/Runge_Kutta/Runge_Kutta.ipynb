{
 "cells": [
  {
   "cell_type": "markdown",
   "metadata": {},
   "source": [
    "# Các phương pháp Runge Kutta giải phương trình vi phân với điều kiện ban đầu"
   ]
  },
  {
   "cell_type": "code",
   "execution_count": 35,
   "metadata": {},
   "outputs": [],
   "source": [
    "import numpy as np\n",
    "import matplotlib.pyplot as plt\n",
    "import math"
   ]
  },
  {
   "cell_type": "markdown",
   "metadata": {},
   "source": [
    "## Input"
   ]
  },
  {
   "cell_type": "code",
   "execution_count": 36,
   "metadata": {},
   "outputs": [],
   "source": [
    "# Hàm số f(x, y)\n",
    "# giá trị ban đầu: x0, y0\n",
    "# Số mốc x_k sử dụng: N\n",
    "# Giá trị X: cần tính giá trị hàm y tại x = X\n",
    "def Function(x, y):\n",
    "    return x + y\n",
    "\n",
    "x0 = 0\n",
    "y0 = 1\n",
    "N = 100\n",
    "X = 5"
   ]
  },
  {
   "cell_type": "markdown",
   "metadata": {},
   "source": [
    "## Các hàm Runge Kutta s nấc với s = 1, 2, 3, 4"
   ]
  },
  {
   "cell_type": "markdown",
   "metadata": {},
   "source": [
    "### Runge Kutta một nấc <-> Công thức Euler hiện"
   ]
  },
  {
   "cell_type": "code",
   "execution_count": 37,
   "metadata": {},
   "outputs": [],
   "source": [
    "def RungeKuttaMotNac(x0, X, y0, N):\n",
    "    result = []\n",
    "    h = (X - x0) / (N - 1)\n",
    "    result.append(y0)\n",
    "    for i in range(1, N):\n",
    "        y0 = y0 + h * Function(x0, y0)\n",
    "        result.append(y0)\n",
    "        x0 += h\n",
    "    return result"
   ]
  },
  {
   "cell_type": "markdown",
   "metadata": {},
   "source": [
    "### Runge Kutta hai nấc thường dùng <-> công thức Euler hình thang"
   ]
  },
  {
   "cell_type": "code",
   "execution_count": 38,
   "metadata": {},
   "outputs": [],
   "source": [
    "def RungeKuttaHaiNac(x0, X, y0, N):\n",
    "    result = []\n",
    "    h = (X - x0) / (N - 1)\n",
    "    result.append(y0)\n",
    "    for i in range(1, N):\n",
    "        yTem = y0 + h * Function(x0, y0)\n",
    "        y0 = y0 + (h / 2) * (Function(x0, y0) + Function(x0 + h, yTem))\n",
    "        result.append(y0)\n",
    "        x0 += h\n",
    "    return result"
   ]
  },
  {
   "cell_type": "markdown",
   "metadata": {},
   "source": [
    "### Runge Kutta ba nấc"
   ]
  },
  {
   "cell_type": "markdown",
   "metadata": {},
   "source": [
    "#### Runge Kutta ba nấc công thức thứ nhất thường dùng "
   ]
  },
  {
   "cell_type": "code",
   "execution_count": 39,
   "metadata": {},
   "outputs": [],
   "source": [
    "def RungeKuttaBaNac1(x0, X, y0, N):\n",
    "    result = []\n",
    "    result.append(y0)\n",
    "    h = (X- x0) / (N - 1)\n",
    "    for i in range(1, N):\n",
    "        k1 = h * Function(x0, y0)\n",
    "        k2 = h * Function(x0 + h/2, y0 + k1/2)\n",
    "        k3 = h * Function(x0 + h, y0 - k1 + 2 * k2)\n",
    "        y0 = y0 + (k1 + 4 * k2 + k3)/6\n",
    "        result.append(y0)\n",
    "        x0 += h\n",
    "    return result"
   ]
  },
  {
   "cell_type": "markdown",
   "metadata": {},
   "source": [
    "#### Runge Kutta ba nấc công thức Heun"
   ]
  },
  {
   "cell_type": "code",
   "execution_count": 40,
   "metadata": {},
   "outputs": [],
   "source": [
    "def RungeKuttaBaNacHeun(x0, X, y0, N):\n",
    "    result = []\n",
    "    result.append(y0)\n",
    "    h = (X- x0) / (N - 1)\n",
    "    for i in range(1, N):\n",
    "        k1 = h * Function(x0, y0)\n",
    "        k2 = h * Function(x0 + h/3, y0 + k1/3)\n",
    "        k3 = h * Function(x0 + 2 * h / 3, y0 + 2 * k2 / 3)\n",
    "        y0 = y0 + (k1 + 3 * k3)/4\n",
    "        result.append(y0)\n",
    "        x0 += h\n",
    "    return result"
   ]
  },
  {
   "cell_type": "markdown",
   "metadata": {},
   "source": [
    "### Runge Kutta bốn nấc thường dùng"
   ]
  },
  {
   "cell_type": "code",
   "execution_count": 41,
   "metadata": {},
   "outputs": [],
   "source": [
    "def RungeKuttaBonNac(x0, X, y0, N):\n",
    "    result = []\n",
    "    result.append(y0)\n",
    "    h = (X- x0) / (N - 1)\n",
    "    for i in range(1, N):\n",
    "        k1 = h * Function(x0, y0)\n",
    "        k2 = h * Function(x0 + h/2, y0 + k1/2)\n",
    "        k3 = h * Function(x0 + h/2, y0 + k2/2)\n",
    "        k4 = h * Function(x0 + h, y0 + k3)\n",
    "        y0 = y0 + (k1 + 2*k2 + 2*k3 + k4)/6\n",
    "        result.append(y0)\n",
    "        x0 += h\n",
    "    return result"
   ]
  },
  {
   "cell_type": "markdown",
   "metadata": {},
   "source": [
    "## kết quả chạy chương trình và biểu đồ kết quả"
   ]
  },
  {
   "cell_type": "code",
   "execution_count": 43,
   "metadata": {},
   "outputs": [
    {
     "data": {
      "image/png": "[encoded data removed]",
      "text/plain": [
       "<Figure size 1080x576 with 1 Axes>"
      ]
     },
     "metadata": {
      "needs_background": "light"
     },
     "output_type": "display_data"
    }
   ],
   "source": [
    "resultRunKutMotNac = RungeKuttaMotNac(x0, X, y0, N)\n",
    "resultRunKutHaiNac = RungeKuttaHaiNac(x0, X, y0, N)\n",
    "resultRunKutBaNac1 = RungeKuttaBaNac1(x0, X, y0, N)\n",
    "resultRunKutBaNacHeun = RungeKuttaBaNacHeun(x0, X, y0, N)\n",
    "resultRunKutBonNac = RungeKuttaBonNac(x0, X, y0, N)\n",
    "\n",
    "c = math.pow(10, 1)\n",
    "\n",
    "for i in range(0, N):\n",
    "    resultRunKutBaNac1[i] *= c\n",
    "    resultRunKutHaiNac[i] *= c\n",
    "    resultRunKutBaNac1[i] *= c\n",
    "    resultRunKutBaNacHeun[i] *= c\n",
    "    resultRunKutBonNac[i] *= c\n",
    "\n",
    "x = np.linspace(x0, X, N)\n",
    "\n",
    "plt.plot(x, resultRunKutMotNac, 'red', label = 'R-K 1')\n",
    "plt.plot(x, resultRunKutHaiNac, 'black', label = 'R-K 2')\n",
    "plt.plot(x, resultRunKutBaNac1, 'purple', label = 'R-K 3')\n",
    "# plt.plot(x, resultRunKutBaNacHeun, 'blue', label = 'R-K Heun')\n",
    "# plt.plot(x, resultRunKutBonNac, 'orange', label = 'R-K 4')\n",
    "\n",
    "# Nghiệm đúng với bài toán Cauchy trên là: y = 2e^x - x - 1\n",
    "y_Real = []\n",
    "\n",
    "for i in x:\n",
    "    y_Real.append((2 * math.exp(i) - i - 1) * c)\n",
    "    \n",
    "# plt.plot(x, y_Real, 'green', label = 'Real')\n",
    "# plt.plot(x, y_Real, '-ok', color = 'green', label = 'Real')\n",
    "\n",
    "# Tăng kích thước hiển thị cho label\n",
    "plt.legend(fontsize = 15)\n",
    "\n",
    "# Tăng kích thước hiển thị cho xlabel và ylabel\n",
    "plt.xlabel('Gia tri x', size = 15)\n",
    "plt.ylabel('Gia tri y', size = 15)\n",
    "\n",
    "plt.grid()\n",
    "fig = plt.gcf()\n",
    "\n",
    "fig.set_size_inches(15,8, forward = False)\n",
    "\n",
    "plt.show()"
   ]
  }
 ],
 "metadata": {
  "interpreter": {
   "hash": "a8f61be024eba58adef938c9aa1e29e02cb3dece83a5348b1a2dafd16a070453"
  },
  "kernelspec": {
   "display_name": "Python 3 (ipykernel)",
   "language": "python",
   "name": "python3"
  },
  "language_info": {
   "codemirror_mode": {
    "name": "ipython",
    "version": 3
   },
   "file_extension": ".py",
   "mimetype": "text/x-python",
   "name": "python",
   "nbconvert_exporter": "python",
   "pygments_lexer": "ipython3",
   "version": "3.9.12"
  }
 },
 "nbformat": 4,
 "nbformat_minor": 2
}
