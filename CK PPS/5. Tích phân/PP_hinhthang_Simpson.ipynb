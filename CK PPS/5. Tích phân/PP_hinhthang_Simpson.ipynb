{
 "cells": [
  {
   "cell_type": "markdown",
   "metadata": {
    "id": "jUYBvDbNzfWQ"
   },
   "source": [
    "Khởi tạo thư viện\n"
   ]
  },
  {
   "cell_type": "code",
   "execution_count": 1,
   "metadata": {
    "executionInfo": {
     "elapsed": 392,
     "status": "ok",
     "timestamp": 1641533169368,
     "user": {
      "displayName": "Phương Thảo Nguyễn Hoa",
      "photoUrl": "https://lh3.googleusercontent.com/a/default-user=s64",
      "userId": "06636709931166516830"
     },
     "user_tz": -420
    },
    "id": "fCYW4JeoAscn"
   },
   "outputs": [],
   "source": [
    "from sympy import *\n",
    "import math\n",
    "import numpy as np\n",
    "_Max = 100"
   ]
  },
  {
   "cell_type": "markdown",
   "metadata": {
    "id": "m5F0fFkUzzgh"
   },
   "source": [
    "Khởi tạo input: hàm f, cận a,b và sai số epsi"
   ]
  },
  {
   "cell_type": "code",
   "execution_count": 2,
   "metadata": {
    "executionInfo": {
     "elapsed": 399,
     "status": "ok",
     "timestamp": 1641533172759,
     "user": {
      "displayName": "Phương Thảo Nguyễn Hoa",
      "photoUrl": "https://lh3.googleusercontent.com/a/default-user=s64",
      "userId": "06636709931166516830"
     },
     "user_tz": -420
    },
    "id": "32kZ1od8Vrvf"
   },
   "outputs": [],
   "source": [
    "def F(x):         \n",
    "    return x\n",
    "a = 2\n",
    "b = 4\n",
    "es = 0.5e-7 "
   ]
  },
  {
   "cell_type": "markdown",
   "metadata": {
    "id": "t4wIGZL60AFp"
   },
   "source": [
    "Tạo hàm tính GTLN của hàm số trong một khoảng [a,b]"
   ]
  },
  {
   "cell_type": "code",
   "execution_count": 3,
   "metadata": {
    "executionInfo": {
     "elapsed": 3,
     "status": "ok",
     "timestamp": 1641533174949,
     "user": {
      "displayName": "Phương Thảo Nguyễn Hoa",
      "photoUrl": "https://lh3.googleusercontent.com/a/default-user=s64",
      "userId": "06636709931166516830"
     },
     "user_tz": -420
    },
    "id": "v0UCsOAESkBv"
   },
   "outputs": [],
   "source": [
    "def max_f(a, b, f):\n",
    "    my_list = [limit(f, x, a), limit(f, x, b)]\n",
    "    L = solve(f.diff(x), x)\n",
    "    if L != []:\n",
    "        for i in range (len(L)):\n",
    "            if a <= L[i] <= b:\n",
    "                my_list.append(limit(f, x, L[i]))\n",
    "    return max(my_list)"
   ]
  },
  {
   "cell_type": "markdown",
   "metadata": {
    "id": "CV0v6OGx0J3g"
   },
   "source": [
    "Tính Max_2 là GTLN của đạo hàm cấp 2, Max_4 là GTLN của đạo hàm cấp 4"
   ]
  },
  {
   "cell_type": "code",
   "execution_count": 4,
   "metadata": {
    "colab": {
     "base_uri": "https://localhost:8080/"
    },
    "executionInfo": {
     "elapsed": 5,
     "status": "ok",
     "timestamp": 1641533176597,
     "user": {
      "displayName": "Phương Thảo Nguyễn Hoa",
      "photoUrl": "https://lh3.googleusercontent.com/a/default-user=s64",
      "userId": "06636709931166516830"
     },
     "user_tz": -420
    },
    "id": "5t4J8LQLSud-",
    "outputId": "96d2d714-0d39-4a78-ac9f-8c6547400a38"
   },
   "outputs": [
    {
     "name": "stdout",
     "output_type": "stream",
     "text": [
      "Đạo hàm cấp 2 của hàm số:  0\n",
      "Giá trị lớn nhất của đạo hàm cấp 2: 0\n",
      "Đạo hàm cấp 4 của hàm số:  0\n",
      "Giá trị lớn nhất của đạo hàm cấp 4: 0\n"
     ]
    }
   ],
   "source": [
    "Max_2 = 0\n",
    "Max_4 = 0\n",
    "x = Symbol('x')\n",
    "f = F(x)\n",
    "for i in range(2):\n",
    "    f = f.diff(x)\n",
    "print(\"Đạo hàm cấp 2 của hàm số: \",f)\n",
    "Max_2 = max_f(a, b, f)\n",
    "print(\"Giá trị lớn nhất của đạo hàm cấp 2:\", Max_2)\n",
    "for i in range(2):\n",
    "    f = f.diff(x)\n",
    "print(\"Đạo hàm cấp 4 của hàm số: \",f)\n",
    "Max_4 = max_f(a, b, f)\n",
    "print(\"Giá trị lớn nhất của đạo hàm cấp 4:\", Max_4)"
   ]
  },
  {
   "cell_type": "code",
   "execution_count": 5,
   "metadata": {
    "colab": {
     "base_uri": "https://localhost:8080/"
    },
    "executionInfo": {
     "elapsed": 2,
     "status": "ok",
     "timestamp": 1641533178832,
     "user": {
      "displayName": "Phương Thảo Nguyễn Hoa",
      "photoUrl": "https://lh3.googleusercontent.com/a/default-user=s64",
      "userId": "06636709931166516830"
     },
     "user_tz": -420
    },
    "id": "SuL4F811iC7z",
    "outputId": "5ccaa836-0fd9-4528-be5a-7881da0d1db0"
   },
   "outputs": [
    {
     "name": "stdout",
     "output_type": "stream",
     "text": [
      "n =  0\n"
     ]
    }
   ],
   "source": [
    "n = math.ceil((math.sqrt(Max_2/12 *math.pow(b-a,3)/es)))\n",
    "print(\"n = \",n)"
   ]
  },
  {
   "cell_type": "markdown",
   "metadata": {
    "id": "e0ExmdQK0mc9"
   },
   "source": [
    "Hàm tính tích phân bằng pp Hình thang"
   ]
  },
  {
   "cell_type": "code",
   "execution_count": 6,
   "metadata": {
    "executionInfo": {
     "elapsed": 496,
     "status": "ok",
     "timestamp": 1641533181947,
     "user": {
      "displayName": "Phương Thảo Nguyễn Hoa",
      "photoUrl": "https://lh3.googleusercontent.com/a/default-user=s64",
      "userId": "06636709931166516830"
     },
     "user_tz": -420
    },
    "id": "dTcLdCL89OAC"
   },
   "outputs": [],
   "source": [
    "def TTPHinhThang(a,b,n):\n",
    "    if n == 0: \n",
    "        n = _Max\n",
    "    ans = 0\n",
    "    h = (b-a)/n\n",
    "    X = []\n",
    "    Y = []\n",
    "    for i in range (n+1):\n",
    "        X.append(a+ i * h)\n",
    "        Y.append(F(a + i * h))\n",
    "    for i in range(n+1):\n",
    "        if i == 0 or i == n:\n",
    "            ans += Y[i]\n",
    "        else:\n",
    "            ans += 2 * Y[i]\n",
    "    return h / 2 * ans"
   ]
  },
  {
   "cell_type": "code",
   "execution_count": 7,
   "metadata": {
    "colab": {
     "base_uri": "https://localhost:8080/"
    },
    "executionInfo": {
     "elapsed": 5,
     "status": "ok",
     "timestamp": 1641533184130,
     "user": {
      "displayName": "Phương Thảo Nguyễn Hoa",
      "photoUrl": "https://lh3.googleusercontent.com/a/default-user=s64",
      "userId": "06636709931166516830"
     },
     "user_tz": -420
    },
    "id": "7c_VBSWz_jdI",
    "outputId": "93b8582a-686d-437e-fb4d-118ad44b895f"
   },
   "outputs": [
    {
     "name": "stdout",
     "output_type": "stream",
     "text": [
      "5.999999999999999\n"
     ]
    }
   ],
   "source": [
    "ans = TTPHinhThang(a,b,n)\n",
    "print(ans)"
   ]
  },
  {
   "cell_type": "code",
   "execution_count": 8,
   "metadata": {
    "colab": {
     "base_uri": "https://localhost:8080/"
    },
    "executionInfo": {
     "elapsed": 397,
     "status": "ok",
     "timestamp": 1641533186563,
     "user": {
      "displayName": "Phương Thảo Nguyễn Hoa",
      "photoUrl": "https://lh3.googleusercontent.com/a/default-user=s64",
      "userId": "06636709931166516830"
     },
     "user_tz": -420
    },
    "id": "4xQuWzs7_91x",
    "outputId": "851326be-8d95-46ef-c48a-ffc25ff1c30f"
   },
   "outputs": [
    {
     "name": "stdout",
     "output_type": "stream",
     "text": [
      "m =  0\n"
     ]
    }
   ],
   "source": [
    "m = math.ceil(math.sqrt(math.sqrt(Max_4/2880*math.pow(b-a,5)/es)))\n",
    "print(\"m = \",m)"
   ]
  },
  {
   "cell_type": "markdown",
   "metadata": {
    "id": "TvPMZCc50xXp"
   },
   "source": [
    "Hàm tính tích phân bằng pp Simpson"
   ]
  },
  {
   "cell_type": "code",
   "execution_count": 9,
   "metadata": {
    "executionInfo": {
     "elapsed": 390,
     "status": "ok",
     "timestamp": 1641533189367,
     "user": {
      "displayName": "Phương Thảo Nguyễn Hoa",
      "photoUrl": "https://lh3.googleusercontent.com/a/default-user=s64",
      "userId": "06636709931166516830"
     },
     "user_tz": -420
    },
    "id": "Vld2NYnPAQ5o"
   },
   "outputs": [],
   "source": [
    "def TTPSimpson(a,b,m):\n",
    "  if m == 0:\n",
    "      m = _Max\n",
    "  ans=0\n",
    "  h = (b - a) / (2*m)\n",
    "  X = []\n",
    "  Y = []\n",
    "  for i in range (2*m+1):\n",
    "      X.append(a+ i * h)\n",
    "      Y.append(F(a + i * h))\n",
    "  for i in range(2*m+1):\n",
    "       if i == 0 or i == 2*m:\n",
    "          ans += Y[i]\n",
    "       elif i % 2 == 1:\n",
    "          ans += 4 * Y[i]\n",
    "       else:\n",
    "          ans += 2 * Y[i]\n",
    "  return h / 3 * ans"
   ]
  },
  {
   "cell_type": "code",
   "execution_count": 10,
   "metadata": {
    "colab": {
     "base_uri": "https://localhost:8080/"
    },
    "executionInfo": {
     "elapsed": 3,
     "status": "ok",
     "timestamp": 1641533191519,
     "user": {
      "displayName": "Phương Thảo Nguyễn Hoa",
      "photoUrl": "https://lh3.googleusercontent.com/a/default-user=s64",
      "userId": "06636709931166516830"
     },
     "user_tz": -420
    },
    "id": "WZ1wFkSaA9an",
    "outputId": "420ecf60-6ce8-4553-e9b2-f28bc421ad13"
   },
   "outputs": [
    {
     "name": "stdout",
     "output_type": "stream",
     "text": [
      "6.000000000000002\n"
     ]
    }
   ],
   "source": [
    "ans = TTPSimpson(a,b,m)\n",
    "print(ans)"
   ]
  },
  {
   "cell_type": "code",
   "execution_count": null,
   "metadata": {},
   "outputs": [],
   "source": []
  }
 ],
 "metadata": {
  "accelerator": "GPU",
  "colab": {
   "collapsed_sections": [],
   "name": "PP_hinhthang_Simpson",
   "provenance": [
    {
     "file_id": "1BqVIcHTAlZCEIlt4ReRN9qr6YnXiiBOg",
     "timestamp": 1641195092061
    }
   ]
  },
  "kernelspec": {
   "display_name": "Python 3 (ipykernel)",
   "language": "python",
   "name": "python3"
  },
  "language_info": {
   "codemirror_mode": {
    "name": "ipython",
    "version": 3
   },
   "file_extension": ".py",
   "mimetype": "text/x-python",
   "name": "python",
   "nbconvert_exporter": "python",
   "pygments_lexer": "ipython3",
   "version": "3.9.12"
  }
 },
 "nbformat": 4,
 "nbformat_minor": 1
}
